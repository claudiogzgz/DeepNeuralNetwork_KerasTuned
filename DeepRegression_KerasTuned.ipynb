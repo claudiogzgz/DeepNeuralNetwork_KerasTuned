{
 "cells": [
  {
   "cell_type": "markdown",
   "id": "cd58b31b",
   "metadata": {},
   "source": [
    "This notebook contains the first task in DELTA. Additionally, the notebook shows how to import the provided data."
   ]
  },
  {
   "cell_type": "markdown",
   "id": "343d65d9",
   "metadata": {},
   "source": [
    "### **1. Description of the notebook**"
   ]
  },
  {
   "cell_type": "markdown",
   "id": "3dca48df",
   "metadata": {},
   "source": [
    "The jupyter notebook contains the following elements:\n",
    "\n",
    "- Preprocessing of your datasets according to the requirements of neural networks.\n",
    "- Implementation of 3 benchmark models: a linear model, a tree-based model and a neural network that has not been tuned. \n",
    "- Tuning of a neural network using a hyperparameter optimization library(see code). The hyperparameter tuning includes regularization. \n",
    "- A well annotated plot showing the train vs. validation loss of the best performing neural network. Interpretation of the plot tested with specific data (not provided in the repo).\n",
    "- A table showing all results (on a validation subset) from the tuned network and your benchmarks."
   ]
  },
  {
   "cell_type": "markdown",
   "id": "dbd9b61a",
   "metadata": {},
   "source": [
    "### **2. Data Import**"
   ]
  },
  {
   "cell_type": "markdown",
   "id": "dc99aa0b",
   "metadata": {},
   "source": [
    "So that you can import the data with the code cell below, you should put the data in the same folder of the notebook. Otherwise, you would have to adjust the file path."
   ]
  },
  {
   "cell_type": "code",
   "execution_count": 1,
   "id": "23510d37",
   "metadata": {},
   "outputs": [],
   "source": [
    "import pandas as pd\n",
    "import numpy as np\n",
    "import matplotlib.pyplot as plt\n",
    "import tensorflow as tf\n",
    "from sklearn.model_selection import train_test_split\n",
    "from sklearn.preprocessing import StandardScaler\n",
    "from sklearn.linear_model import LinearRegression\n",
    "from sklearn.ensemble import RandomForestRegressor\n",
    "from sklearn.metrics import mean_squared_error, mean_absolute_error\n",
    "import keras_tuner\n",
    "import keras\n",
    "\n",
    "\n",
    "#Predictor features on the train set:\n",
    "train_X=pd.read_csv('train_X.csv',sep=',',header=0,index_col=0)\n",
    "#Target variable on the train set:\n",
    "train_y=pd.read_csv('train_y.csv',sep=',',header=0,index_col=0)\n",
    "#Predictor features on the test set:\n",
    "test_X=pd.read_csv('test_X.csv',sep=',',header=0,index_col=0)\n",
    "#Demo predictions file:\n",
    "demo_predictions=pd.read_csv('Demo_Predictions.csv',sep=',',header=0,index_col=0)"
   ]
  },
  {
   "cell_type": "markdown",
   "id": "d88b7b82",
   "metadata": {},
   "source": [
    "## **3. Preprocess of datasets**"
   ]
  },
  {
   "cell_type": "code",
   "execution_count": 2,
   "id": "3429f610",
   "metadata": {},
   "outputs": [],
   "source": [
    "#Split the training set into train and validation with the ratio 80:20.\n",
    "x_train, x_val, y_train, y_val=train_test_split(train_X,train_y,test_size=0.2)\n",
    "\n",
    "#Only the input features (X) are rescaled; the target variable (y) remains in original scale to directly predict real-world values:\n",
    "scaler=StandardScaler()\n",
    "x_train_rescaled=scaler.fit_transform(x_train)\n",
    "x_val_rescaled=scaler.transform(x_val)\n",
    "x_test_rescaled=scaler.transform(test_X)"
   ]
  },
  {
   "cell_type": "markdown",
   "id": "b8e35059",
   "metadata": {},
   "source": [
    "## **4. Benchmark Models(Linear Regression & Random Forest)**"
   ]
  },
  {
   "cell_type": "code",
   "execution_count": 3,
   "id": "296758a4",
   "metadata": {},
   "outputs": [],
   "source": [
    "results = {}\n",
    "\n",
    "#Linear Regression\n",
    "linear_model = LinearRegression()\n",
    "linear_model.fit(x_train_rescaled, y_train)\n",
    "pred_linear = linear_model.predict(x_val_rescaled)\n",
    "mse_lr = mean_squared_error(y_val, pred_linear)\n",
    "mae_lr = mean_absolute_error(y_val, pred_linear)\n",
    "rmse_lr = np.sqrt(mse_lr)\n",
    "results[\"Linear Regression\"] = {\"MSE\": mse_lr, \"MAE\": mae_lr, \"RMSE\": rmse_lr}\n",
    "\n",
    "#Random Forest\n",
    "rf_model = RandomForestRegressor(n_estimators=100, random_state=42)\n",
    "rf_model.fit(x_train_rescaled, y_train.values.ravel())\n",
    "pred_rf = rf_model.predict(x_val_rescaled)\n",
    "mse_rf = mean_squared_error(y_val, pred_rf)\n",
    "mae_rf = mean_absolute_error(y_val, pred_rf)\n",
    "rmse_rf = np.sqrt(mse_rf)\n",
    "results[\"Random Forest\"] = {\"MSE\": mse_rf, \"MAE\": mae_rf, \"RMSE\": rmse_rf}"
   ]
  },
  {
   "cell_type": "markdown",
   "id": "5e1cb8ad",
   "metadata": {},
   "source": [
    "## **4.1. Benchmark Models(Untuned DNN)**"
   ]
  },
  {
   "cell_type": "code",
   "execution_count": 4,
   "id": "5bee02e1",
   "metadata": {},
   "outputs": [
    {
     "name": "stderr",
     "output_type": "stream",
     "text": [
      "2025-05-30 15:41:13.675061: I metal_plugin/src/device/metal_device.cc:1154] Metal device set to: Apple M3\n",
      "2025-05-30 15:41:13.675087: I metal_plugin/src/device/metal_device.cc:296] systemMemory: 16.00 GB\n",
      "2025-05-30 15:41:13.675095: I metal_plugin/src/device/metal_device.cc:313] maxCacheSize: 5.33 GB\n",
      "2025-05-30 15:41:13.675114: I tensorflow/core/common_runtime/pluggable_device/pluggable_device_factory.cc:305] Could not identify NUMA node of platform GPU ID 0, defaulting to 0. Your kernel may not have been built with NUMA support.\n",
      "2025-05-30 15:41:13.675124: I tensorflow/core/common_runtime/pluggable_device/pluggable_device_factory.cc:271] Created TensorFlow device (/job:localhost/replica:0/task:0/device:GPU:0 with 0 MB memory) -> physical PluggableDevice (device: 0, name: METAL, pci bus id: <undefined>)\n",
      "2025-05-30 15:41:14.162697: I tensorflow/core/grappler/optimizers/custom_graph_optimizer_registry.cc:117] Plugin optimizer for device_type GPU is enabled.\n",
      "2025-05-30 15:41:14.164809: E tensorflow/core/grappler/optimizers/meta_optimizer.cc:961] PluggableGraphOptimizer failed: INVALID_ARGUMENT: Failed to deserialize the `graph_buf`.\n"
     ]
    },
    {
     "name": "stdout",
     "output_type": "stream",
     "text": [
      "Epoch 16: early stopping\n"
     ]
    }
   ],
   "source": [
    "#Define your early stopping callback:\n",
    "es_callback = keras.callbacks.EarlyStopping(\n",
    "    monitor='val_loss',\n",
    "    patience=5,\n",
    "    verbose=1,\n",
    "    mode='min'\n",
    ")\n",
    "\n",
    "#Your keras model using the sequential api:\n",
    "model = keras.Sequential()\n",
    "model.add(keras.Input(shape=(x_train_rescaled.shape[1],)))\n",
    "model.add(keras.layers.Dense(units=100, activation='relu', kernel_initializer='he_normal'))\n",
    "model.add(keras.layers.Dropout(0.3))\n",
    "model.add(keras.layers.Dense(units=50, activation='relu', kernel_initializer='he_normal'))\n",
    "model.add(keras.layers.Dropout(0.3))\n",
    "model.add(keras.layers.Dense(units=10, activation='relu', kernel_initializer='he_normal'))\n",
    "model.add(keras.layers.Dropout(0.3))\n",
    "model.add(keras.layers.Dense(units=1, activation='linear'))\n",
    "\n",
    "model.compile(optimizer=keras.optimizers.Adam(), loss='mse')\n",
    "\n",
    "#Train your model:\n",
    "model_training_history = model.fit(\n",
    "    x=x_train_rescaled,\n",
    "    y=y_train,\n",
    "    validation_data=(x_val_rescaled, y_val),\n",
    "    epochs=100,\n",
    "    batch_size=32,\n",
    "    callbacks=[es_callback],\n",
    "    verbose=0\n",
    ")"
   ]
  },
  {
   "cell_type": "code",
   "execution_count": 5,
   "id": "cd4028cf",
   "metadata": {},
   "outputs": [
    {
     "data": {
      "image/png": "[encoded data removed]",
      "text/plain": [
       "<Figure size 700x500 with 1 Axes>"
      ]
     },
     "metadata": {},
     "output_type": "display_data"
    }
   ],
   "source": [
    "#Create a function to visualize the model performance\n",
    "def visualize_performance(train_loss_list: list,\n",
    "                          val_loss_list: list) -> None:\n",
    "    '''\n",
    "    Visualizes the training vs. validation performance of a feedforward neural network.\n",
    "\n",
    "    Parameters:\n",
    "    -----------\n",
    "    train_loss_list : list\n",
    "        List of epoch train loss values.\n",
    "    val_loss_list : list\n",
    "        List of epoch val loss values.\n",
    "\n",
    "    Returns:\n",
    "    --------\n",
    "    None\n",
    "    '''\n",
    "\n",
    "    plt.figure(figsize=(7, 5))\n",
    "    plt.plot(train_loss_list, label='Train Loss')\n",
    "    plt.plot(val_loss_list, label='Val Loss')\n",
    "    plt.ylabel('MSE Score')\n",
    "    plt.xlabel('Epoch')\n",
    "    plt.title('Train vs. Validation Performance')\n",
    "    plt.legend()\n",
    "    plt.show()\n",
    "    plt.close()\n",
    "\n",
    "#Visualize the performance by calling the function\n",
    "#You can access the training history by calling model_training_history.history...\n",
    "\n",
    "train_loss = model_training_history.history['loss']\n",
    "val_loss = model_training_history.history['val_loss']\n",
    "\n",
    "visualize_performance(train_loss_list=train_loss,\n",
    "                      val_loss_list=val_loss)"
   ]
  },
  {
   "cell_type": "code",
   "execution_count": 6,
   "id": "93c4ab80",
   "metadata": {},
   "outputs": [
    {
     "name": "stdout",
     "output_type": "stream",
     "text": [
      "Test MSE achieved by not tuned Keras Sequential Model:  3180.91225\n"
     ]
    }
   ],
   "source": [
    "val_pr = model.predict(x_val_rescaled, verbose=0)\n",
    "print('Test MSE achieved by not tuned Keras Sequential Model: ',\n",
    "      round(mean_squared_error(y_true=y_val.values.flatten(), y_pred=val_pr.flatten()), 5))"
   ]
  },
  {
   "cell_type": "markdown",
   "id": "db058a8b",
   "metadata": {},
   "source": [
    "## **5. Hyperparameter Tuning with Keras Tuner**"
   ]
  },
  {
   "cell_type": "code",
   "execution_count": 7,
   "id": "f101fc7f",
   "metadata": {},
   "outputs": [],
   "source": [
    "def keras_hp_optimization(hp: keras_tuner.HyperParameters) -> keras.Sequential:\n",
    "    '''\n",
    "    Perform hyperparameter tuning using keras_tuner.\n",
    "\n",
    "    Parameters:\n",
    "    -----------\n",
    "    hp : keras_tuner.HyperParameters\n",
    "        A set of different types of keras tuner hyperparameters, which can be sampled during the search.\n",
    "\n",
    "    Returns: \n",
    "    --------\n",
    "    model : keras.Sequential\n",
    "        The keras model built with the sequential API and the set of sampled hyperparameters in the current trial.\n",
    "    '''\n",
    "\n",
    "    # Sample the type of activation function to apply in each hidden layer:\n",
    "    current_activation = hp.Choice('activation', ['relu', 'tanh', 'sigmoid'])\n",
    "\n",
    "    model = keras.Sequential()\n",
    "    model.add(keras.Input(shape=(x_train_rescaled.shape[1],)))\n",
    "    \n",
    "    # Sample L2 regularization strength (weight decay)\n",
    "    l2_strength = hp.Float('l2_strength', min_value=1e-5, max_value=1e-2, sampling='log')\n",
    "\n",
    "    # Sample number of neurons for up to 3 hidden layers\n",
    "    max_hidden_layers = 3\n",
    "    keep_sampling_hidden_units = True\n",
    "    nr_hidden_layer = 0\n",
    "\n",
    "    while keep_sampling_hidden_units:\n",
    "        units_name = f'units_layer_{nr_hidden_layer}'\n",
    "        current_hidden_units = hp.Int(units_name, min_value=0, max_value=128, step=32)\n",
    "\n",
    "        if current_hidden_units == 0 or nr_hidden_layer == max_hidden_layers - 1:\n",
    "            keep_sampling_hidden_units = False\n",
    "\n",
    "        if current_hidden_units != 0:\n",
    "            model.add(keras.layers.Dense(\n",
    "                units=current_hidden_units,\n",
    "                activation=current_activation,\n",
    "                kernel_initializer='he_normal',\n",
    "                kernel_regularizer=keras.regularizers.l2(l2_strength)\n",
    "            ))\n",
    "\n",
    "        nr_hidden_layer += 1\n",
    "\n",
    "    # Output layer\n",
    "    model.add(keras.layers.Dense(units=1, activation='linear'))\n",
    "\n",
    "    # Non-conditional hyperparameters\n",
    "    current_optimizer = hp.Choice('optimizer', ['adam', 'rmsprop', 'sgd'])\n",
    "    current_learning_rate = hp.Float('learning_rate', min_value=1e-4, max_value=1e-2, sampling='log')\n",
    "\n",
    "    if current_optimizer == 'adam':\n",
    "        optimizer = keras.optimizers.Adam(learning_rate=current_learning_rate)\n",
    "    elif current_optimizer == 'rmsprop':\n",
    "        optimizer = keras.optimizers.RMSprop(learning_rate=current_learning_rate)\n",
    "    else:\n",
    "        optimizer = keras.optimizers.SGD(learning_rate=current_learning_rate)\n",
    "\n",
    "    model.compile(optimizer=optimizer, loss='mse')\n",
    "    return model"
   ]
  },
  {
   "cell_type": "code",
   "execution_count": 8,
   "id": "056bf8b6",
   "metadata": {},
   "outputs": [
    {
     "name": "stdout",
     "output_type": "stream",
     "text": [
      "Trial 50 Complete [00h 00m 40s]\n",
      "val_loss: 30465.306640625\n",
      "\n",
      "Best val_loss So Far: 56.29609298706055\n",
      "Total elapsed time: 00h 17m 10s\n",
      "Test MSE achieved by not tuned Keras Sequential Model:  3180.9122\n",
      "Test MSE achieved by tuned Keras Sequential Model:  56.2689\n",
      "Best hyperparameter configuration found:\n",
      " {'activation': 'relu', 'l2_strength': 1.4477980168817606e-05, 'units_layer_0': 96, 'optimizer': 'adam', 'learning_rate': 0.006416198367381452, 'units_layer_1': 0, 'units_layer_2': 64}\n"
     ]
    },
    {
     "name": "stderr",
     "output_type": "stream",
     "text": [
      "/opt/anaconda3/lib/python3.12/site-packages/keras/src/saving/saving_lib.py:719: UserWarning: Skipping variable loading for optimizer 'adam', because it has 2 variables whereas the saved optimizer has 10 variables. \n",
      "  saveable.load_own_variables(weights_store.get(inner_path))\n"
     ]
    }
   ],
   "source": [
    "#Define early stopping callback\n",
    "es_callback = keras.callbacks.EarlyStopping(\n",
    "    monitor='val_loss',\n",
    "    patience=5,\n",
    "    verbose=1,\n",
    "    mode='min',\n",
    "    restore_best_weights=True\n",
    ")\n",
    "\n",
    "#Initialize Keras Tuner with RandomSearch\n",
    "tuner = keras_tuner.RandomSearch(\n",
    "    keras_hp_optimization,\n",
    "    objective='val_loss',\n",
    "    max_trials=50,\n",
    "    overwrite=True,\n",
    "    directory='./tmp/checkpoint',\n",
    "    project_name='dnn_tuning'\n",
    ")\n",
    "\n",
    "#Launch search\n",
    "tuner.search(x_train_rescaled, y_train,\n",
    "             validation_data=(x_val_rescaled, y_val),\n",
    "             epochs=100,\n",
    "             batch_size=32,\n",
    "             callbacks=[es_callback],\n",
    "             verbose=1)\n",
    "\n",
    "#Retrieve the best performing model\n",
    "best_model = tuner.get_best_models(num_models=1)[0]\n",
    "\n",
    "#Predict with best model\n",
    "tuned_keras_pr = best_model.predict(x_val_rescaled, verbose=0)\n",
    "\n",
    "#Compare with untuned model predictions (val_pr)\n",
    "print('Test MSE achieved by not tuned Keras Sequential Model: ',\n",
    "      round(mean_squared_error(y_val.values.flatten(), val_pr.flatten()), 4))\n",
    "print('Test MSE achieved by tuned Keras Sequential Model: ',\n",
    "      round(mean_squared_error(y_val.values.flatten(), tuned_keras_pr.flatten()), 4))\n",
    "\n",
    "#Print best hyperparameters\n",
    "print('Best hyperparameter configuration found:\\n', tuner.get_best_hyperparameters(1)[0].values)"
   ]
  },
  {
   "cell_type": "code",
   "execution_count": 9,
   "id": "3a1e6672",
   "metadata": {},
   "outputs": [
    {
     "name": "stdout",
     "output_type": "stream",
     "text": [
      "Test MSE achieved by not tuned Keras Sequential Model:  3180.9122\n",
      "Test MSE achieved by tuned Keras Sequential Model:  56.2689\n",
      "Best hyperparameter configuration found:\n",
      " {'activation': 'relu', 'l2_strength': 1.4477980168817606e-05, 'units_layer_0': 96, 'optimizer': 'adam', 'learning_rate': 0.006416198367381452, 'units_layer_1': 0, 'units_layer_2': 64}\n"
     ]
    }
   ],
   "source": [
    "#Compare with untuned model predictions (val_pr)\n",
    "print('Test MSE achieved by not tuned Keras Sequential Model: ',\n",
    "      round(mean_squared_error(y_val.values.flatten(), val_pr.flatten()), 4))\n",
    "print('Test MSE achieved by tuned Keras Sequential Model: ',\n",
    "      round(mean_squared_error(y_val.values.flatten(), tuned_keras_pr.flatten()), 4))\n",
    "\n",
    "#Print best hyperparameters\n",
    "print('Best hyperparameter configuration found:\\n', tuner.get_best_hyperparameters(1)[0].values)"
   ]
  },
  {
   "cell_type": "code",
   "execution_count": 10,
   "id": "966c3e00",
   "metadata": {},
   "outputs": [
    {
     "name": "stdout",
     "output_type": "stream",
     "text": [
      "Restoring model weights from the end of the best epoch: 100.\n"
     ]
    },
    {
     "data": {
      "image/png": "[encoded data removed]",
      "text/plain": [
       "<Figure size 700x500 with 1 Axes>"
      ]
     },
     "metadata": {},
     "output_type": "display_data"
    }
   ],
   "source": [
    "#Get best hyperparameters\n",
    "best_hp = tuner.get_best_hyperparameters(num_trials=1)[0]\n",
    "\n",
    "#Rebuild the model using the best hyperparameters\n",
    "model = keras_hp_optimization(best_hp)\n",
    "\n",
    "#Retrain the model and save the history\n",
    "model_training_history = model.fit(\n",
    "    x_train_rescaled, y_train,\n",
    "    validation_data=(x_val_rescaled, y_val),\n",
    "    epochs=100,\n",
    "    batch_size=32,\n",
    "    callbacks=[es_callback],\n",
    "    verbose=0\n",
    ")\n",
    "\n",
    "#Now you can visualize the loss curves\n",
    "train_loss = model_training_history.history['loss']\n",
    "val_loss = model_training_history.history['val_loss']\n",
    "\n",
    "visualize_performance(train_loss_list=train_loss,\n",
    "                      val_loss_list=val_loss)"
   ]
  },
  {
   "cell_type": "markdown",
   "id": "b6676dd6",
   "metadata": {},
   "source": [
    "## Interpretation of the plot ##"
   ]
  },
  {
   "cell_type": "markdown",
   "id": "ed82f93c",
   "metadata": {},
   "source": [
    "**The model shows rapid convergence within the first 10 epochs, with both training and validation loss decreasing sharply and stabilizing. The close overlap between the two curves suggests the model generalizes well with no signs of overfitting**"
   ]
  },
  {
   "cell_type": "code",
   "execution_count": 11,
   "id": "764154bd",
   "metadata": {},
   "outputs": [
    {
     "name": "stdout",
     "output_type": "stream",
     "text": [
      "Test MSE achieved by tuned Keras Sequential Model:  56.26892\n"
     ]
    }
   ],
   "source": [
    "tuned_val_pr = best_model.predict(x_val_rescaled, verbose=0)\n",
    "print('Test MSE achieved by tuned Keras Sequential Model: ',\n",
    "      round(mean_squared_error(y_true=y_val.values.flatten(), y_pred=tuned_val_pr.flatten()), 5))"
   ]
  },
  {
   "cell_type": "code",
   "execution_count": 12,
   "id": "22b22605",
   "metadata": {},
   "outputs": [
    {
     "name": "stdout",
     "output_type": "stream",
     "text": [
      "Test MSE achieved by not tuned Keras Sequential Model:  3180.91225\n",
      "Test MSE achieved by tuned Keras Sequential Model:  56.26892\n"
     ]
    }
   ],
   "source": [
    "print('Test MSE achieved by not tuned Keras Sequential Model: ',\n",
    "      round(mean_squared_error(y_val.values.flatten(), val_pr.flatten()), 5))\n",
    "\n",
    "print('Test MSE achieved by tuned Keras Sequential Model: ',\n",
    "      round(mean_squared_error(y_val.values.flatten(), tuned_val_pr.flatten()), 5))"
   ]
  },
  {
   "cell_type": "markdown",
   "id": "f928d73d",
   "metadata": {},
   "source": [
    "## **6.Table showing all results (on a validation subset) of benchmarks & Tuned DNN** ##"
   ]
  },
  {
   "cell_type": "code",
   "execution_count": 13,
   "id": "5876ce5d",
   "metadata": {},
   "outputs": [
    {
     "data": {
      "text/html": [
       "<div>\n",
       "<style scoped>\n",
       "    .dataframe tbody tr th:only-of-type {\n",
       "        vertical-align: middle;\n",
       "    }\n",
       "\n",
       "    .dataframe tbody tr th {\n",
       "        vertical-align: top;\n",
       "    }\n",
       "\n",
       "    .dataframe thead th {\n",
       "        text-align: right;\n",
       "    }\n",
       "</style>\n",
       "<table border=\"1\" class=\"dataframe\">\n",
       "  <thead>\n",
       "    <tr style=\"text-align: right;\">\n",
       "      <th></th>\n",
       "      <th>MSE</th>\n",
       "      <th>MAE</th>\n",
       "      <th>RMSE</th>\n",
       "    </tr>\n",
       "  </thead>\n",
       "  <tbody>\n",
       "    <tr>\n",
       "      <th>Linear Regression</th>\n",
       "      <td>1173.126302</td>\n",
       "      <td>26.690004</td>\n",
       "      <td>34.250931</td>\n",
       "    </tr>\n",
       "    <tr>\n",
       "      <th>Random Forest</th>\n",
       "      <td>628.667526</td>\n",
       "      <td>15.131417</td>\n",
       "      <td>25.073243</td>\n",
       "    </tr>\n",
       "    <tr>\n",
       "      <th>Untuned DNN</th>\n",
       "      <td>3180.912247</td>\n",
       "      <td>41.430615</td>\n",
       "      <td>56.399577</td>\n",
       "    </tr>\n",
       "    <tr>\n",
       "      <th>Tuned DNN</th>\n",
       "      <td>56.268917</td>\n",
       "      <td>5.682313</td>\n",
       "      <td>7.501261</td>\n",
       "    </tr>\n",
       "  </tbody>\n",
       "</table>\n",
       "</div>"
      ],
      "text/plain": [
       "                           MSE        MAE       RMSE\n",
       "Linear Regression  1173.126302  26.690004  34.250931\n",
       "Random Forest       628.667526  15.131417  25.073243\n",
       "Untuned DNN        3180.912247  41.430615  56.399577\n",
       "Tuned DNN            56.268917   5.682313   7.501261"
      ]
     },
     "metadata": {},
     "output_type": "display_data"
    }
   ],
   "source": [
    "#Untuned DNN\n",
    "mse_untuned = mean_squared_error(y_val.values.flatten(), val_pr.flatten())\n",
    "mae_untuned = mean_absolute_error(y_val.values.flatten(), val_pr.flatten())\n",
    "rmse_untuned = np.sqrt(mse_untuned)\n",
    "results[\"Untuned DNN\"] = {\"MSE\": mse_untuned, \"MAE\": mae_untuned, \"RMSE\": rmse_untuned}\n",
    "\n",
    "#Tuned DNN\n",
    "mse_tuned = mean_squared_error(y_val.values.flatten(), tuned_val_pr.flatten())\n",
    "mae_tuned = mean_absolute_error(y_val.values.flatten(), tuned_val_pr.flatten())\n",
    "rmse_tuned = np.sqrt(mse_tuned)\n",
    "results[\"Tuned DNN\"] = {\"MSE\": mse_tuned, \"MAE\": mae_tuned, \"RMSE\": rmse_tuned}\n",
    "\n",
    "\n",
    "#Display Table\n",
    "results_df = pd.DataFrame(results).T\n",
    "display(results_df)"
   ]
  },
  {
   "cell_type": "markdown",
   "id": "c741ab8a",
   "metadata": {},
   "source": [
    "## Iterpretation of the suitability of the best-performing model for the task ##"
   ]
  },
  {
   "cell_type": "markdown",
   "id": "a3af3b1c",
   "metadata": {},
   "source": [
    "**The model’s relatively low complexity makes it efficient, while still achieving the best performance across all benchmarks. Evaluation metrics such as MSE, RMSE, and MAE are consistently lower than those of Linear Regression, Random Forest, and the untuned DNN. This confirms that the tuned architecture is well-suited for the task.**"
   ]
  },
  {
   "cell_type": "markdown",
   "id": "f24a573d",
   "metadata": {},
   "source": [
    "## **7.Usage and predition of target using our X_test.cvs**"
   ]
  },
  {
   "cell_type": "code",
   "execution_count": 14,
   "id": "2f827608",
   "metadata": {},
   "outputs": [
    {
     "data": {
      "text/html": [
       "<div>\n",
       "<style scoped>\n",
       "    .dataframe tbody tr th:only-of-type {\n",
       "        vertical-align: middle;\n",
       "    }\n",
       "\n",
       "    .dataframe tbody tr th {\n",
       "        vertical-align: top;\n",
       "    }\n",
       "\n",
       "    .dataframe thead th {\n",
       "        text-align: right;\n",
       "    }\n",
       "</style>\n",
       "<table border=\"1\" class=\"dataframe\">\n",
       "  <thead>\n",
       "    <tr style=\"text-align: right;\">\n",
       "      <th></th>\n",
       "      <th>0</th>\n",
       "    </tr>\n",
       "  </thead>\n",
       "  <tbody>\n",
       "    <tr>\n",
       "      <th>0</th>\n",
       "      <td>-221.092636</td>\n",
       "    </tr>\n",
       "    <tr>\n",
       "      <th>1</th>\n",
       "      <td>-222.288925</td>\n",
       "    </tr>\n",
       "    <tr>\n",
       "      <th>2</th>\n",
       "      <td>-197.037872</td>\n",
       "    </tr>\n",
       "    <tr>\n",
       "      <th>3</th>\n",
       "      <td>-238.316788</td>\n",
       "    </tr>\n",
       "    <tr>\n",
       "      <th>4</th>\n",
       "      <td>-167.754135</td>\n",
       "    </tr>\n",
       "  </tbody>\n",
       "</table>\n",
       "</div>"
      ],
      "text/plain": [
       "            0\n",
       "0 -221.092636\n",
       "1 -222.288925\n",
       "2 -197.037872\n",
       "3 -238.316788\n",
       "4 -167.754135"
      ]
     },
     "metadata": {},
     "output_type": "display_data"
    }
   ],
   "source": [
    "#Predict using the best model\n",
    "y_test_predictions = best_model.predict(x_test_rescaled, verbose=0)\n",
    "\n",
    "#Create DataFrame with default index and same column name as train_y\n",
    "predicted_df = pd.DataFrame(y_test_predictions)\n",
    "\n",
    "#Show result\n",
    "display(predicted_df.head())"
   ]
  },
  {
   "cell_type": "markdown",
   "id": "b779c07e",
   "metadata": {},
   "source": [
    "## Save predictions to CSV ##"
   ]
  },
  {
   "cell_type": "code",
   "execution_count": 15,
   "id": "171c7aea",
   "metadata": {},
   "outputs": [],
   "source": [
    "#Save to CSV\n",
    "predicted_df.to_csv(\"predictions_on_testset.csv\", index=True, header=True)"
   ]
  }
 ],
 "metadata": {
  "colab": {
   "collapsed_sections": [
    "73933381"
   ],
   "provenance": []
  },
  "kernelspec": {
   "display_name": "Python (tf-env)",
   "language": "python",
   "name": "tf-env"
  },
  "language_info": {
   "codemirror_mode": {
    "name": "ipython",
    "version": 3
   },
   "file_extension": ".py",
   "mimetype": "text/x-python",
   "name": "python",
   "nbconvert_exporter": "python",
   "pygments_lexer": "ipython3",
   "version": "3.12.2"
  }
 },
 "nbformat": 4,
 "nbformat_minor": 5
}
